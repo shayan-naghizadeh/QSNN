{
 "cells": [
  {
   "cell_type": "code",
   "execution_count": 9,
   "id": "0fa9b035",
   "metadata": {},
   "outputs": [],
   "source": [
    "def decimal_to_posit6_0(x: float) -> str:\n",
    "    \"\"\"\n",
    "    Convert decimal (float) to posit(6,0) bitstring.\n",
    "    Works for positive and negative numbers.\n",
    "    \"\"\"\n",
    "\n",
    "    nbits = 6\n",
    "    es = 0\n",
    "    useed = 2 ** (2 ** es)  # useed = 2\n",
    "\n",
    "    # Special cases\n",
    "    if x == 0:\n",
    "        return \"0\" * nbits  # zero\n",
    "    if x != x:  # NaN\n",
    "        return \"1\" + \"0\" * (nbits - 1)  # NaR (Not a Real)\n",
    "\n",
    "    # Remember sign\n",
    "    sign = 0 if x > 0 else 1\n",
    "    x = abs(x)\n",
    "\n",
    "    # regime calculation\n",
    "    k = 0\n",
    "    value = 1.0\n",
    "    while x >= useed:\n",
    "        x /= useed\n",
    "        k += 1\n",
    "    while x < 1.0:\n",
    "        x *= useed\n",
    "        k -= 1\n",
    "\n",
    "    # regime bits\n",
    "    if k >= 0:\n",
    "        regime = \"1\" * (k + 1) + \"0\"\n",
    "    else:\n",
    "        regime = \"0\" * (-k) + \"1\"\n",
    "\n",
    "    # keep within available bits\n",
    "    regime = regime[:nbits - 1]\n",
    "\n",
    "    # fraction bits (remaining)\n",
    "    max_frac_bits = nbits - 1 - len(regime)\n",
    "    frac_val = x - 1\n",
    "    frac_bits = \"\"\n",
    "    for i in range(max_frac_bits):\n",
    "        frac_val *= 2\n",
    "        if frac_val >= 1:\n",
    "            frac_bits += \"1\"\n",
    "            frac_val -= 1\n",
    "        else:\n",
    "            frac_bits += \"0\"\n",
    "\n",
    "    # Construct posit without sign\n",
    "    posit_mag = (regime + frac_bits)[:nbits - 1].ljust(nbits - 1, \"0\")\n",
    "    posit_bits = \"0\" + posit_mag  # temporary sign=0\n",
    "\n",
    "    # If negative → take two's complement\n",
    "    if sign == 1:\n",
    "        val = int(posit_bits, 2)\n",
    "        val = ((~val) + 1) & ((1 << nbits) - 1)  # two’s complement\n",
    "        posit_bits = format(val, f\"0{nbits}b\")\n",
    "\n",
    "    return \"0b\"+posit_bits\n"
   ]
  },
  {
   "cell_type": "code",
   "execution_count": 11,
   "id": "516fdf68",
   "metadata": {},
   "outputs": [
    {
     "data": {
      "text/plain": [
       "'0b100001'"
      ]
     },
     "execution_count": 11,
     "metadata": {},
     "output_type": "execute_result"
    }
   ],
   "source": [
    "decimal_to_posit6_0(-20)"
   ]
  },
  {
   "cell_type": "code",
   "execution_count": null,
   "id": "e2eca84b",
   "metadata": {},
   "outputs": [],
   "source": []
  }
 ],
 "metadata": {
  "kernelspec": {
   "display_name": "Python 3",
   "language": "python",
   "name": "python3"
  },
  "language_info": {
   "codemirror_mode": {
    "name": "ipython",
    "version": 3
   },
   "file_extension": ".py",
   "mimetype": "text/x-python",
   "name": "python",
   "nbconvert_exporter": "python",
   "pygments_lexer": "ipython3",
   "version": "3.12.4"
  }
 },
 "nbformat": 4,
 "nbformat_minor": 5
}
