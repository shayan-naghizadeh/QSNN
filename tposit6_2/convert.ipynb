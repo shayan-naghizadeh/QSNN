{
 "cells": [
  {
   "cell_type": "code",
   "execution_count": 3,
   "id": "538452d2",
   "metadata": {},
   "outputs": [
    {
     "name": "stdout",
     "output_type": "stream",
     "text": [
      "fc1_weights.txt not found!\n",
      "fc2_weights.txt not found!\n",
      "Done! Two text files created: fc1_weights.txt and fc2_weights.txt\n"
     ]
    }
   ],
   "source": [
    "import re\n",
    "\n",
    "with open(\"weights.cpp\", \"r\") as f:\n",
    "    code = f.read()\n",
    "\n",
    "fc1_block = re.search(r\"fc1_weight\\s*\\[.*?\\]\\s*=\\s*\\{(.*?)\\};\", code, re.S)\n",
    "fc2_block = re.search(r\"fc2_weight\\s*\\[.*?\\]\\s*=\\s*\\{(.*?)\\};\", code, re.S)\n",
    "\n",
    "def extract_weights(block, out_file, per_line):\n",
    "    if not block:\n",
    "        print(f\"{out_file} not found!\")\n",
    "        return\n",
    "    text = block.group(1)\n",
    "    bins = re.findall(r\"0b[01]{8}\", text)\n",
    "\n",
    "    with open(out_file, \"w\") as f:\n",
    "        for i, b in enumerate(bins):\n",
    "            f.write(b.replace(\"0b\", \"\") + \" \")\n",
    "            if (i + 1) % per_line == 0: \n",
    "                f.write(\"\\n\")\n",
    "\n",
    "# fc1: 784 × 256\n",
    "extract_weights(fc1_block, \"fc1_weights.txt\", 256)\n",
    "# fc2: 256 × 10\n",
    "extract_weights(fc2_block, \"fc2_weights.txt\", 10)\n",
    "\n",
    "print(\"Done! Two text files created: fc1_weights.txt and fc2_weights.txt\")\n"
   ]
  },
  {
   "cell_type": "code",
   "execution_count": 5,
   "id": "67c10cdb",
   "metadata": {},
   "outputs": [
    {
     "name": "stdout",
     "output_type": "stream",
     "text": [
      "Done! Both weight files created.\n"
     ]
    }
   ],
   "source": [
    "import re\n",
    "\n",
    "with open(\"weights.cpp\", \"r\") as f:\n",
    "    code = f.read()\n",
    "\n",
    "def extract_weights(var_name, out_file, per_line):\n",
    "    # گرفتن بلاک مربوط به متغیر\n",
    "    block = re.search(rf\"{var_name}\\s*=\\s*\\{{(.*?)\\}};\", code, re.S)\n",
    "    if not block:\n",
    "        print(f\"{out_file} not found!\")\n",
    "        return\n",
    "    \n",
    "    text = block.group(1)\n",
    "    # همه بیت‌های باینری داخل posit6_2(...)\n",
    "    bins = re.findall(r\"posit6_2\\((0b[01]+),\\s*6,\\s*2\\)\", text)\n",
    "    \n",
    "    with open(out_file, \"w\") as f:\n",
    "        for i, b in enumerate(bins):\n",
    "            # حذف پیشوند 0b\n",
    "            bits = b.replace(\"0b\", \"\")\n",
    "            f.write(bits)\n",
    "            if (i + 1) % per_line == 0:\n",
    "                f.write(\"\\n\")\n",
    "            else:\n",
    "                f.write(\" \")\n",
    "\n",
    "# fc1 وزن‌ها (784 × 256)\n",
    "extract_weights(\"fc1_weight\", \"fc1_weights.txt\", 256)\n",
    "\n",
    "# fc2 وزن‌ها (256 × 10)\n",
    "extract_weights(\"fc2_weight\", \"fc2_weights.txt\", 10)\n",
    "\n",
    "print(\"Done! Both weight files created.\")\n"
   ]
  },
  {
   "cell_type": "code",
   "execution_count": null,
   "id": "dda9417d",
   "metadata": {},
   "outputs": [],
   "source": []
  }
 ],
 "metadata": {
  "kernelspec": {
   "display_name": "Python 3",
   "language": "python",
   "name": "python3"
  },
  "language_info": {
   "codemirror_mode": {
    "name": "ipython",
    "version": 3
   },
   "file_extension": ".py",
   "mimetype": "text/x-python",
   "name": "python",
   "nbconvert_exporter": "python",
   "pygments_lexer": "ipython3",
   "version": "3.12.4"
  }
 },
 "nbformat": 4,
 "nbformat_minor": 5
}
